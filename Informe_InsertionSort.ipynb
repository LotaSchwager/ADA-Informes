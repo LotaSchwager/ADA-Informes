{
  "nbformat": 4,
  "nbformat_minor": 0,
  "metadata": {
    "colab": {
      "name": "Informe InsertionSort",
      "provenance": [],
      "authorship_tag": "ABX9TyN+bnSTqe6a7jDFDPbxzFKo",
      "include_colab_link": true
    },
    "kernelspec": {
      "name": "python3",
      "display_name": "Python 3"
    },
    "language_info": {
      "name": "python"
    }
  },
  "cells": [
    {
      "cell_type": "markdown",
      "metadata": {
        "id": "view-in-github",
        "colab_type": "text"
      },
      "source": [
        "<a href=\"https://colab.research.google.com/github/LotaSchwager/ADA-Informes/blob/main/Informe_InsertionSort.ipynb\" target=\"_parent\"><img src=\"https://colab.research.google.com/assets/colab-badge.svg\" alt=\"Open In Colab\"/></a>"
      ]
    },
    {
      "cell_type": "markdown",
      "source": [
        "# 1. InsertionSort\n",
        "El `InsertionSort` es un algoritmo de ordenamiento, donde coloca el elemento sin ordenar en el lugar adecuado en cada iteración.\n",
        "\n",
        "En el siguiente código se ve la implementación de Insertion Sort en Python."
      ],
      "metadata": {
        "id": "QDpGV_70xIX3"
      }
    },
    {
      "cell_type": "code",
      "source": [
        "import random\n",
        "from termcolor import colored\n",
        "import copy\n",
        "\n",
        "# Insertion sort\n",
        "def insertionSort(array, pasos = False):\n",
        "    comparaciones = 0 # Contador de comparaciones\n",
        "    \n",
        "    # Desde 1 hasta el tamaño correspondiente del arreglo entrante\n",
        "    for step in range(1, len(array)):\n",
        "        if pasos == True: print(\"\\nIteracion : \",step)\n",
        "        key = array[step]\n",
        "        j = step - 1\n",
        "        if pasos == True: print (array)\n",
        "\n",
        "        # Compara el \"key\" con cada elemento hacia la izquierda hasta encontrar un elemento más pequeño que el key\n",
        "        while j >= 0 and key < array[j]:\n",
        "            array[j + 1] = array[j] # El arreglo donde estaba \"key\" ahora tiene el valor del número mayor que estaba hacia la izquierda de key\n",
        "            j = j - 1\n",
        "            if pasos == True:\n",
        "               print (array) \n",
        "            comparaciones += 1\n",
        "        \n",
        "        # Se coloca el valor \"key\" después del valor más pequeño que él\n",
        "        array[j + 1] = key\n",
        "        if pasos == True: print (\"\\nAl finalizar : \")\n",
        "        if pasos == True: print (array)\n",
        "\n",
        "    print (\"\\nOrdenamiento finalizado.\")\n",
        "\n",
        "    return array, comparaciones    \n",
        "\n",
        "#Ejemplo\n",
        "data = [10, 6, 2, 7, 4]\n",
        "print(\"Arreglo no ordenado: \", data)\n",
        "data, comparisons = insertionSort(data)\n",
        "print(\"\\nArreglo ordenado :\", data)\n",
        "print (\"Total de las comparaciones realizadas : \", comparisons)"
      ],
      "metadata": {
        "colab": {
          "base_uri": "https://localhost:8080/"
        },
        "id": "vc5sFbvV1HHm",
        "outputId": "1d681b5f-8961-4962-d064-78183ceae2c1"
      },
      "execution_count": 22,
      "outputs": [
        {
          "output_type": "stream",
          "name": "stdout",
          "text": [
            "Arreglo no ordenado:  [10, 6, 2, 7, 4]\n",
            "\n",
            "Ordenamiento finalizado.\n",
            "\n",
            "Arreglo ordenado : [2, 4, 6, 7, 10]\n",
            "Total de las comparaciones realizadas :  7\n"
          ]
        }
      ]
    },
    {
      "cell_type": "markdown",
      "source": [
        "### 1.1. Descripción del algoritmo\n",
        "\n",
        "Este algoritmo recibe como entrada un arreglo o lista llamado data con n elementos que queremos ordenar y da como salida el arreglo o lista ordenado de menor a mayor.\n",
        "\n",
        "\n",
        "\n",
        "1.   En cada iteracion step, el algoritmo revisa si el valor data[ step ] es menor al data [ step - 1 ] en caso de serlo se intercambiaran sus valores, esto se repetira hasta que data[ step ] ya no sea menor a data[step - 1] o llegue hasta la posicion 0.\n",
        "\n",
        "2.   Si el arreglo se encuentra ordenado, se saldra del ciclo. Si no, step se le sumara 1 y seguira ejecutandose el ciclo for.\n",
        "\n",
        "3. Al final, se retorna el arreglo \"data\" ordenado como tambien se retornara un contador de iteraciones llamado \"comparaciones\".   \n",
        "\n"
      ],
      "metadata": {
        "id": "oMxA1Uk81aPR"
      }
    },
    {
      "cell_type": "markdown",
      "source": [
        "### 1.2. Ejemplo\n",
        "\n",
        "Consideremos, por ejemplo, el arreglo:\n",
        "\n",
        "data = [ 7, 3, 2, 5, 10, 9 ]\n",
        "\n",
        "En la primera iteracion se tomara el numero 7 por lo cual no ocurrira nada.\n",
        "Luego, en la segunda pasada tomara el valor 3 y esta se intercambiara con el 7.\n",
        "\n",
        "data = [ 3, 7, 2, 5, 10, 9 ]\n",
        "\n",
        "En la tercera se tomara el valor 2 y esta se intercambiara con el 7 y luego se intercambiara con el 3.\n",
        "\n",
        "data = [ 2, 3, 7, 5, 10, 9 ]\n",
        "\n",
        "En la cuarta se tomara el valor 5 y esta se intercambiara con el 7.\n",
        "\n",
        "data = [ 2, 3, 5, 7, 10, 9 ]\n",
        "\n",
        "En la quinta se tomara el valor 10 y no ocurrira nada.\n",
        "En la sexta se tomara el valor 9 y esta se intercambiara con el 10.\n",
        "\n",
        "data = [ 2, 3, 5, 7, 9, 10 ]\n",
        "\n",
        "Y listo ya tenemos el arreglo ordenado, Despues se muestra por pantalla el arreglo ordenado."
      ],
      "metadata": {
        "id": "v0YQYOW6jjBp"
      }
    },
    {
      "cell_type": "markdown",
      "source": [
        "### 1.3. Ejemplo del algoritmo con el paso == True\n",
        "\n",
        "Usando la opcion paso = True, podemos paso a paso en cada iteracion del algoritmo de ordenamiento."
      ],
      "metadata": {
        "id": "plj7cjBK2h1Q"
      }
    },
    {
      "cell_type": "code",
      "source": [
        "data_2 = random.sample(range(1, 100), 6)\n",
        "data_2, comparisons= insertionSort(data_2,pasos=True)\n",
        "print (\"\\nTotal de comparaciones : \", comparisons)"
      ],
      "metadata": {
        "colab": {
          "base_uri": "https://localhost:8080/"
        },
        "id": "55wIVGHe2-4Y",
        "outputId": "9d42d264-6c74-4cfb-ce74-0af7314c2263"
      },
      "execution_count": 25,
      "outputs": [
        {
          "output_type": "stream",
          "name": "stdout",
          "text": [
            "\n",
            "Iteracion :  1\n",
            "[86, 24, 38, 69, 64, 22]\n",
            "[86, 86, 38, 69, 64, 22]\n",
            "\n",
            "Al finalizar : \n",
            "[24, 86, 38, 69, 64, 22]\n",
            "\n",
            "Iteracion :  2\n",
            "[24, 86, 38, 69, 64, 22]\n",
            "[24, 86, 86, 69, 64, 22]\n",
            "\n",
            "Al finalizar : \n",
            "[24, 38, 86, 69, 64, 22]\n",
            "\n",
            "Iteracion :  3\n",
            "[24, 38, 86, 69, 64, 22]\n",
            "[24, 38, 86, 86, 64, 22]\n",
            "\n",
            "Al finalizar : \n",
            "[24, 38, 69, 86, 64, 22]\n",
            "\n",
            "Iteracion :  4\n",
            "[24, 38, 69, 86, 64, 22]\n",
            "[24, 38, 69, 86, 86, 22]\n",
            "[24, 38, 69, 69, 86, 22]\n",
            "\n",
            "Al finalizar : \n",
            "[24, 38, 64, 69, 86, 22]\n",
            "\n",
            "Iteracion :  5\n",
            "[24, 38, 64, 69, 86, 22]\n",
            "[24, 38, 64, 69, 86, 86]\n",
            "[24, 38, 64, 69, 69, 86]\n",
            "[24, 38, 64, 64, 69, 86]\n",
            "[24, 38, 38, 64, 69, 86]\n",
            "[24, 24, 38, 64, 69, 86]\n",
            "\n",
            "Al finalizar : \n",
            "[22, 24, 38, 64, 69, 86]\n",
            "\n",
            "Ordenamiento finalizado.\n",
            "\n",
            "Total de comparaciones :  10\n"
          ]
        }
      ]
    },
    {
      "cell_type": "markdown",
      "source": [
        "En cada iteración, el algoritmo pregunta si el valor \"key\" en la posición anterior es mayor, en caso de serlo se intercambiará sus posiciones repitiendo este proceso hasta que esa condición ya no se cumpla. "
      ],
      "metadata": {
        "id": "GXvK8Aed6ST5"
      }
    },
    {
      "cell_type": "markdown",
      "source": [
        "### 2. Correctitud del algoritmo\n",
        "\n",
        "El algoritmo `InsertionSort` toma como entrada un arreglo: [ a1, a2, ....., an ], con estos elementos del arreglo de entradas eran ordenados de menor a mayor, es decir, a1 <= a2 <= ..... <= an.\n",
        "\n",
        "Observamos que en cada iteración del `InsertionSort` reordenamos los elementos dentro del arreglo.\n",
        "\n",
        "Por lo que probaremos lo siguiente, la **propiedad invariante de bucle** para el `InsertionSort`.\n",
        "\n",
        "```\n",
        "# Al comienzo de cada iteración step del bucle, este valor correspondiente se reordenará hacia la izquierda hasta encuentra \n",
        "  un valor más pequeño que este.\n",
        "```\n",
        "\n",
        "**Inicialización :**\n",
        "\n",
        "Al comienzo de la primera iteración (step = 1), siendo el primer valor el arreglo, este está trivialmente ordenado, por lo que cumple con la propiedad.\n",
        "\n",
        "**Mantención**\n",
        "\n",
        "Observando lo que ocurre la step-ésima iteración. Asumiendo que el arreglo [ 0, ....., step-1 ] se encuentra ordenado y contiene los valores del arreglo entrante.\n",
        "\n",
        "Durante la iteración, reordenaremos el valor hacia la izquierda hasta su posición correcta, por lo tanto, el arreglo [ 0, ......, step ] contiene los elementos ordenados en las anteriores iteración sumado al nuevo valor añadido en esta iteración en su debido posición, por lo cual este arreglo se mantiene ordenado.\n",
        "\n",
        "**Correctitud**\n",
        "\n",
        "Finalmente, como la propiedad invariante de bucle es verdadero tanto al inicio del algoritmo como durante esta, por lo que podemos decir que que al finalizar este algoritmo, se genera un arreglo ordenado de menor a mayor con los mismos valores del arreglo de entrada."
      ],
      "metadata": {
        "id": "XD-EmHY2hR5z"
      }
    },
    {
      "cell_type": "markdown",
      "source": [
        "### 3. Tiempo de ejecucion\n",
        "\n",
        "El algoritmo `InsertionSort` tiene un tiempo de ejecución de O(n²) en el peor caso.\n",
        "\n",
        "Para ver esto se tiene que analizar el algoritmo descrito anteriormente.\n",
        "Está compuesto de 2 ciclos, primero un for que recorre el arreglo y un while que también recorre el arreglo comparando valores para ordenarlos.\n",
        "\n",
        "El peor caso seria uno donde el for recorre completamente el arreglo y el while también, eso sería una complejidad n (primer ciclo) multiplicado por n (segundo ciclo) dando como complejidad de orden n²."
      ],
      "metadata": {
        "id": "ci08xTQA-mMA"
      }
    }
  ]
}